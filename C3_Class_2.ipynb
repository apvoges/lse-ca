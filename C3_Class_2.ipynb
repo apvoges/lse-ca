{
 "cells": [
  {
   "cell_type": "markdown",
   "id": "dc0837a1-6860-4fff-b38d-df72dfb81204",
   "metadata": {},
   "source": [
    "# Class 2: Predicting outcomes using classification and clustering\n",
    "\n",
    "## Context\n",
    "- The basis of machine learning algorithms (Which 20% of algorithms forms the basis for 80% of problems?)\n",
    "- Revisit cheatsheet shared in W1\n",
    "\n",
    "> ***Suggested reading:***\n",
    "- [KDNuggets - Top 10 Must-Know Machine Learning Algorithms for Data Scientists – Part 1](https://www.kdnuggets.com/2021/04/top-10-must-know-machine-learning-algorithms-data-scientists-1.html)\n",
    "- [The Top 10 Machine Learning Algorithms Every Beginner Should Know](https://builtin.com/data-science/tour-top-10-algorithms-machine-learning-newbies)\n",
    "- [Machine learning algorithms overview](https://serokell.io/blog/machine-learning-algorithm-classification-overview)\n",
    "\n",
    "## Classification\n",
    "\n",
    "![](ml-algs.png)\n",
    "[Source: Sciencedirect - Machine learning algorithms](https://www.sciencedirect.com/topics/engineering/machine-learning-algorithm)\n",
    "\n",
    "- Revisit types of tasks vs algorithms\n",
    "- Frequently used algorithms\n",
    "    - Logistic regression\n",
    "    - Support vector machines\n",
    "    - Decision trees\n",
    "    - Random forests\n",
    "    - Naive Bayes\n",
    "    - KNN\n",
    "    - Artificial neural networks\n",
    "\n",
    "> ***Suggested reading:*** [Comparing different supervised machine learning algorithms for disease prediction](https://bmcmedinformdecismak.biomedcentral.com/articles/10.1186/s12911-019-1004-8)"
   ]
  },
  {
   "cell_type": "markdown",
   "id": "b95c1c51-65e1-4fae-ade5-19a2b8d2ae02",
   "metadata": {},
   "source": [
    "# Week overview\n",
    "- 2.1 Classification with Python\n",
    "    - ***ML and predictive models***\n",
    "    - ***Logistic regression***\n",
    "    - Worked example and practical activity\n",
    "    - ***Support vector machines***\n",
    "- 2.2 Decision trees\n",
    "    - ***Decision trees***\n",
    "    - ***Random forests***\n",
    "- 2.3 Clustering\n",
    "    - ***k-means clustering*** (assignment)\n",
    "    - ***hierarchical clustering*** (not included in course)"
   ]
  },
  {
   "cell_type": "markdown",
   "id": "328b8392-ef63-42ec-a35e-951a77ad0b4c",
   "metadata": {},
   "source": [
    "# Logistic regression\n",
    "- Classic application is binary classification\n",
    "- Can also be used for multi-class classification problems\n",
    "- Can be used for classification tasks, but also very important when we get to neural networks\n",
    "    - Accuracy levels discussion in the context of neural networks and large amounts of data\n",
    "\n",
    "> ***Suggested reading:*** [Activation functions in neural networks](https://towardsdatascience.com/activation-functions-neural-networks-1cbd9f8d91d6) and [Logistic regression and neural networks](https://sebastianraschka.com/faq/docs/logisticregr-neuralnet.html)"
   ]
  },
  {
   "cell_type": "markdown",
   "id": "9c05674d-094e-44e6-a900-b042211096fd",
   "metadata": {},
   "source": [
    "## Decision tree example\n",
    "\n",
    "### One hot encoding\n",
    "\n",
    "> ***Suggested reading:***\n",
    "> - [Machine learning mastery: One hot encoding](https://machinelearningmastery.com/one-hot-encoding-for-categorical-data/)\n",
    "> - [Towards data science: label encoding and one hot encoding](https://towardsdatascience.com/categorical-encoding-using-label-encoding-and-one-hot-encoder-911ef77fb5bd)"
   ]
  },
  {
   "cell_type": "code",
   "execution_count": 1,
   "id": "e494dcde-c54c-4be1-8b69-d6c66499444e",
   "metadata": {},
   "outputs": [
    {
     "name": "stdout",
     "output_type": "stream",
     "text": [
      "[['red']\n",
      " ['green']\n",
      " ['blue']]\n"
     ]
    }
   ],
   "source": [
    "# External discussion part 1\n",
    "from numpy import asarray\n",
    "from sklearn.preprocessing import OneHotEncoder\n",
    "# define data\n",
    "data = asarray([['red'], ['green'], ['blue']])\n",
    "print(data)\n",
    "\n"
   ]
  },
  {
   "cell_type": "code",
   "execution_count": 2,
   "id": "aaf24b8d-0011-4a2d-84fa-5311fa265b61",
   "metadata": {},
   "outputs": [
    {
     "name": "stdout",
     "output_type": "stream",
     "text": [
      "[[0. 1.]\n",
      " [1. 0.]\n",
      " [0. 0.]]\n"
     ]
    }
   ],
   "source": [
    "# External discussion part 2\n",
    "# define one hot encoding\n",
    "encoder = OneHotEncoder(drop='first', sparse=False)\n",
    "# transform data\n",
    "onehot = encoder.fit_transform(data)\n",
    "print(onehot)"
   ]
  },
  {
   "cell_type": "markdown",
   "id": "748de8db-3a2a-4e83-8e7a-ad09bd4572e7",
   "metadata": {},
   "source": [
    "### Back to decision trees\n",
    "- Refer to the [Scikit-Learn documentation](https://scikit-learn.org/stable/modules/tree.html) and [How is splitting decided for decision trees](https://www.displayr.com/how-is-splitting-decided-for-decision-trees/)\n",
    "\n",
    "![](https://scikit-learn.org/stable/_images/sphx_glr_plot_iris_dtc_001.png)\n",
    "![](https://scikit-learn.org/stable/_images/iris.svg)\n",
    "\n",
    "\n",
    "### Interpretation of decision trees (classification example)\n",
    "- Classification or regression\n",
    "- Pruning is important (Greedy algorithms prone to overfitting)\n",
    "- Accuracy optimisation (random forests, boosting/bagging) at the expense of loss of explainability"
   ]
  },
  {
   "cell_type": "code",
   "execution_count": 3,
   "id": "577ab29f-6964-4534-b21b-e38e6b2875b5",
   "metadata": {},
   "outputs": [
    {
     "name": "stdout",
     "output_type": "stream",
     "text": [
      "<class 'pandas.core.frame.DataFrame'>\n",
      "RangeIndex: 41188 entries, 0 to 41187\n",
      "Data columns (total 19 columns):\n",
      " #   Column         Non-Null Count  Dtype  \n",
      "---  ------         --------------  -----  \n",
      " 0   Age            41188 non-null  int64  \n",
      " 1   Occupation     41188 non-null  object \n",
      " 2   Status         41188 non-null  object \n",
      " 3   Edu            41188 non-null  object \n",
      " 4   House          41188 non-null  object \n",
      " 5   Loan           41188 non-null  object \n",
      " 6   Comm           41188 non-null  object \n",
      " 7   Month          41188 non-null  object \n",
      " 8   DOW            41188 non-null  object \n",
      " 9   Duration       41188 non-null  int64  \n",
      " 10  Campaign       41188 non-null  int64  \n",
      " 11  PosDays        41188 non-null  int64  \n",
      " 12  Last_out       41188 non-null  object \n",
      " 13  Var_rate       41188 non-null  float64\n",
      " 14  Price_idx      41188 non-null  float64\n",
      " 15  Conf_idx       41188 non-null  float64\n",
      " 16  Month_rate     41188 non-null  float64\n",
      " 17  Quarterly_emp  41188 non-null  float64\n",
      " 18  Target         41188 non-null  int64  \n",
      "dtypes: float64(5), int64(5), object(9)\n",
      "memory usage: 6.0+ MB\n"
     ]
    }
   ],
   "source": [
    "# [1] Import all necessary libraries:\n",
    "import pandas as pd \n",
    "import numpy as np \n",
    "import scipy as scp\n",
    "import sklearn\n",
    "from sklearn import metrics\n",
    "# Note: Provides classes and functions to estimate many different statistical methods.\n",
    "import statsmodels.api as sm  \n",
    "\n",
    "# Note: Helps split data into sets to create BLR.\n",
    "from imblearn.over_sampling import SMOTE  \n",
    "from sklearn.model_selection import train_test_split\n",
    "\n",
    "# Note: Indicates situations that aren’t necessarily exceptions.\n",
    "import warnings  \n",
    "# [1a] Filter out any warning messages.\n",
    "warnings.filterwarnings(\"ignore\")  \n",
    "\n",
    "# [2] Read the provided CSV file/data set.\n",
    "df = pd.read_csv(\"w2/Data Sets/Customer_data.csv\")  \n",
    "\n",
    "# [3] Print a summary of the DataFrame to sense-check it.\n",
    "df.info()  "
   ]
  },
  {
   "cell_type": "code",
   "execution_count": 4,
   "id": "95473cb0-20d7-46e4-b60c-599535d60f59",
   "metadata": {},
   "outputs": [
    {
     "data": {
      "text/plain": [
       "array(['pre-school', 'other', 'uni', 'high-school', 'masters'],\n",
       "      dtype=object)"
      ]
     },
     "execution_count": 4,
     "metadata": {},
     "output_type": "execute_result"
    }
   ],
   "source": [
    "# [1] Update all the details of the education column:\n",
    "df.loc[df['Edu'].str.contains('basic'),'Edu' ] = 'pre-school'\n",
    "df.loc[df['Edu'].str.contains('university'),'Edu' ] = 'uni'\n",
    "df.loc[df['Edu'].str.contains('high'),'Edu' ] = 'high-school'\n",
    "df.loc[df['Edu'].str.contains('professional') ,'Edu'] = 'masters'\n",
    "df.loc[df['Edu'].str.contains('illiterate'),'Edu' ] = 'other'\n",
    "df.loc[df['Edu'].str.contains('unknown'),'Edu' ] = 'other'\n",
    "\n",
    "# [2] Display all the unique values/check changes.\n",
    "df['Edu'].unique() "
   ]
  },
  {
   "cell_type": "code",
   "execution_count": 5,
   "id": "aa843440-f068-4b55-a00a-07faf089d302",
   "metadata": {},
   "outputs": [
    {
     "data": {
      "text/plain": [
       "array(['Age', 'Duration', 'Campaign', 'PosDays', 'Var_rate', 'Price_idx',\n",
       "       'Conf_idx', 'Month_rate', 'Quarterly_emp', 'Target',\n",
       "       'Occupation_admin.', 'Occupation_blue-collar',\n",
       "       'Occupation_entrepreneur', 'Occupation_housemaid',\n",
       "       'Occupation_management', 'Occupation_retired',\n",
       "       'Occupation_self-employed', 'Occupation_services',\n",
       "       'Occupation_student', 'Occupation_technician',\n",
       "       'Occupation_unemployed', 'Occupation_unknown', 'Status_divorced',\n",
       "       'Status_married', 'Status_single', 'Status_unknown',\n",
       "       'Edu_high-school', 'Edu_masters', 'Edu_other', 'Edu_pre-school',\n",
       "       'Edu_uni', 'House_no', 'House_unknown', 'House_yes', 'Loan_no',\n",
       "       'Loan_unknown', 'Loan_yes', 'Comm_cellular', 'Comm_telephone',\n",
       "       'Month_apr', 'Month_aug', 'Month_dec', 'Month_jul', 'Month_jun',\n",
       "       'Month_mar', 'Month_may', 'Month_nov', 'Month_oct', 'Month_sep',\n",
       "       'DOW_fri', 'DOW_mon', 'DOW_thu', 'DOW_tue', 'DOW_wed',\n",
       "       'Last_out_failure', 'Last_out_nonexistent', 'Last_out_success'],\n",
       "      dtype=object)"
      ]
     },
     "execution_count": 5,
     "metadata": {},
     "output_type": "execute_result"
    }
   ],
   "source": [
    "# [1] Name new DataFrame and convert categorical variables to dummy variables:\n",
    "cat_vars=['Occupation','Status','Edu','House','Loan',\n",
    "          'Comm','Month','DOW','Last_out']\n",
    "\n",
    "# [2] Use the for loop keyword to specify what actions to\n",
    "# apply to all the 'var' items:\n",
    "# [2a] Specify what needs to apply to all the variables.\n",
    "for var in cat_vars:  \n",
    "    # cat_list='var'+'_'+var\n",
    "    # [2b] Specify details of the categorical list.\n",
    "    cat_list = pd.get_dummies(df[var], prefix=var)  \n",
    "    # [2c] Indicate the joining of the DataFrames.\n",
    "    df=df.join(cat_list) \n",
    "\n",
    "df_fin = df.drop(cat_vars,axis=1) \n",
    "\n",
    "# [3] Specify the column names:\n",
    "cat_vars=['Occupation','Status','Edu','House','Loan',\n",
    "          'Comm','Month','DOW','Last_out']\n",
    "\n",
    "# [4] Set a temporary DataFrame and add values.\n",
    "df_vars=df.columns.values.tolist()  \n",
    "\n",
    "# [5] Indicate what columns are kept.\n",
    "to_keep=[i for i in df_vars if i not in cat_vars] \n",
    "\n",
    "# [6] Define new DataFrame.\n",
    "df_fin=df[to_keep]  \n",
    "\n",
    "# [7] Print the column.\n",
    "df_fin.columns.values"
   ]
  },
  {
   "cell_type": "code",
   "execution_count": 6,
   "id": "a80e3083-6202-4927-8496-f00d4f1e8554",
   "metadata": {},
   "outputs": [],
   "source": [
    "# NOTE MY CHANGES\n",
    "\n",
    "# [1] Create a DataFrame to use as df_fin and replace missing values with zero.\n",
    "df_fin = df_fin.fillna(0)  \n",
    "\n",
    "# [2] Select necessary columns: \n",
    "nec_cols = [ 'Status_divorced', 'Status_married',\n",
    "            'Status_single', 'Status_unknown', \n",
    "            'Edu_high-school', 'Edu_masters', \n",
    "            'Edu_other', 'Edu_pre-school', \n",
    "            'Edu_uni', 'House_no', 'House_unknown',\n",
    "            'House_yes', 'Loan_no', 'Loan_unknown', \n",
    "            'Loan_yes', 'DOW_fri', 'DOW_mon']\n",
    "\n",
    "X = df_fin[nec_cols]\n",
    "y = df_fin['Target']\n",
    "\n",
    "# [3] Create a new DataFrame and \n",
    "# [3a] apply SMOTE as the target variable is not balanced.\n",
    "#os = SMOTE(random_state=0)  \n",
    "X_train, X_test, y_train, y_test = train_test_split(X, y, test_size=0.3, random_state=0)\n",
    "\n",
    "# [4] Specify column values.\n",
    "columns = X_train.columns  \n",
    "# [5] Specify the new data sets.\n",
    "#os_data_X,os_data_y=os.fit_resample(X_train, y_train)  \n",
    "\n",
    "# [6] Create two DataFrames for X and one for y:\n",
    "#os_data_X = pd.DataFrame(data=os_data_X,columns=columns )\n",
    "#os_data_y= pd.DataFrame(data=os_data_y,columns=['Target'])\n",
    "\n",
    "# [7] Print/check the DataFrame:\n",
    "#print(\"length of oversampled data is \",len(os_data_X))\n",
    "\n",
    "#os_data_y"
   ]
  },
  {
   "cell_type": "code",
   "execution_count": 7,
   "id": "31173f2d-88f7-4c21-a2e6-f72696aef9be",
   "metadata": {},
   "outputs": [],
   "source": [
    "# NOTE MY CHANGES\n",
    "\n",
    "# [1] Import the ‘DecisionTreeClassifier’ class from sklearn. \n",
    "from sklearn.tree import DecisionTreeClassifier  \n",
    "\n",
    "# [2] Create a classification decision tree classifier object as ‘dtc’: \n",
    "dtc = DecisionTreeClassifier(criterion='gini', max_depth=4, random_state=1)\n",
    "\n",
    "# [3] Train the decision tree classifier.\n",
    "dtc = dtc.fit(X_train, y_train) \n",
    "\n",
    "# [4] Predict the response for the test data set.\n",
    "y_pred = dtc.predict(X_test)  "
   ]
  },
  {
   "cell_type": "code",
   "execution_count": 8,
   "id": "c8ad5425-cf87-4a5f-9c53-18b6a0f8f005",
   "metadata": {},
   "outputs": [
    {
     "name": "stdout",
     "output_type": "stream",
     "text": [
      "[[10981     0]\n",
      " [ 1376     0]]\n",
      "Accuracy: 0.88864611151574\n",
      "Precision: 0.0\n",
      "Recall: 0.0\n"
     ]
    }
   ],
   "source": [
    "# [1] Import scikit-learn metrics module for accuracy calculation:\n",
    "from sklearn.metrics import confusion_matrix\n",
    "\n",
    "# [2] Use the ‘print()’ function to display the confusion matrix results:\n",
    "print(confusion_matrix(y_test, y_pred))\n",
    "\n",
    "# [3a] Metrics for ‘accuracy’.\n",
    "print(\"Accuracy:\",metrics.accuracy_score(y_test, y_pred)) \n",
    "# [3b] Metrics for ‘precision’. \n",
    "print(\"Precision:\",metrics.precision_score(y_test, y_pred))  \n",
    "# [3c] Metrics for ‘recall’.\n",
    "print(\"Recall:\",metrics.recall_score(y_test, y_pred)) "
   ]
  },
  {
   "cell_type": "code",
   "execution_count": 9,
   "id": "63946487-c64e-4a75-a581-15a9cd87e7ee",
   "metadata": {},
   "outputs": [
    {
     "name": "stdout",
     "output_type": "stream",
     "text": [
      "              precision    recall  f1-score   support\n",
      "\n",
      "           0       0.89      1.00      0.94     10981\n",
      "           1       0.00      0.00      0.00      1376\n",
      "\n",
      "    accuracy                           0.89     12357\n",
      "   macro avg       0.44      0.50      0.47     12357\n",
      "weighted avg       0.79      0.89      0.84     12357\n",
      "\n"
     ]
    }
   ],
   "source": [
    "from sklearn.metrics import classification_report\n",
    "\n",
    "print(classification_report(y_test, y_pred))"
   ]
  },
  {
   "cell_type": "code",
   "execution_count": 10,
   "id": "ab6ce015-3d7c-4d47-b38a-561bc0b55325",
   "metadata": {},
   "outputs": [
    {
     "data": {
      "image/png": "[encoded data removed]",
      "text/plain": [
       "<Figure size 720x720 with 1 Axes>"
      ]
     },
     "metadata": {
      "needs_background": "light"
     },
     "output_type": "display_data"
    }
   ],
   "source": [
    "# [1] Import matplotlib to create a visualisation \n",
    "# and the ‘tree’ package from sklearn:\n",
    "import matplotlib.pyplot as plt \n",
    "from sklearn import tree\n",
    "\n",
    "# [2] Plot the decision tree to create the visualisation:\n",
    "fig, ax = plt.subplots(figsize=(10, 10))\n",
    "tree.plot_tree(dtc, fontsize=10)\n",
    "\n",
    "# [3] Print the plot with plt.show().\n",
    "plt.show() "
   ]
  },
  {
   "cell_type": "markdown",
   "id": "85c123f4-2bc3-4380-8588-3691911bdf6f",
   "metadata": {},
   "source": [
    "# Additional information / Pruning\n",
    "- Highly recommended: https://machinelearningmastery.com/classification-and-regression-trees-for-machine-learning/\n",
    "- More detailed/advanced: https://machinelearningmastery.com/implement-decision-tree-algorithm-scratch-python/\n",
    "\n",
    "***Extract from the first link: Pruning***\n",
    "\n",
    "> The stopping criterion is important as it strongly influences the performance of your tree. You can use pruning after learning your tree to further lift performance.\n",
    "\n",
    "> The complexity of a decision tree is defined as the number of splits in the tree. Simpler trees are preferred. They are easy to understand (you can print them out and show them to subject matter experts), and they are less likely to overfit your data.\n",
    "\n",
    "> The fastest and simplest pruning method is to work through each leaf node in the tree and evaluate the effect of removing it using a hold-out test set. Leaf nodes are removed only if it results in a drop in the overall cost function on the entire test set. You stop removing nodes when no further improvements can be made.\n",
    "\n",
    "> More sophisticated pruning methods can be used such as cost complexity pruning (also called weakest link pruning) where a learning parameter (alpha) is used to weigh whether nodes can be removed based on the size of the sub-tree.\n",
    "\n",
    "#### Pruning examples\n",
    "- [Towardsdatascience](https://towardsdatascience.com/build-better-decision-trees-with-pruning-8f467e73b107)\n",
    "- [Medium](https://medium.com/analytics-vidhya/post-pruning-and-pre-pruning-in-decision-tree-561f3df73e65)\n",
    "\n",
    "#### Scikit-learn documentation: \n",
    "- [Decision tree](https://scikit-learn.org/stable/modules/tree.html#tree) (note the use of graphviz)\n",
    "- [Decision tree classifier](https://scikit-learn.org/stable/modules/generated/sklearn.tree.DecisionTreeClassifier.html)\n"
   ]
  },
  {
   "cell_type": "code",
   "execution_count": 11,
   "id": "92865ad5-7c08-4614-a790-916f44893ea5",
   "metadata": {},
   "outputs": [],
   "source": [
    "# alt vis?"
   ]
  },
  {
   "cell_type": "markdown",
   "id": "bfbfdccc-36f6-4e04-8901-de2e0e307f19",
   "metadata": {},
   "source": [
    "## Clustering\n",
    "\n",
    "### Scikit-learn\n",
    "- [K-Means](https://scikit-learn.org/stable/modules/clustering.html#k-means)\n",
    "- [Ward hierarchical clustering](https://scikit-learn.org/stable/modules/clustering.html#hierarchical-clustering) (additional)\n",
    "- [Overview of clustering methods available](https://scikit-learn.org/stable/modules/clustering.html)\n",
    "\n",
    "Hierarchical clustering output\n",
    "![](https://scikit-learn.org/stable/_images/sphx_glr_plot_agglomerative_dendrogram_001.png)\n",
    "\n",
    "Additional (optional reading): [Hierarchical clustering](https://towardsdatascience.com/a-practical-introduction-to-hierarchical-clustering-from-scikit-learn-ffaf8ee2670c)\n",
    "\n",
    "# Clustering example (highly recommended up to pipelines)\n",
    "https://realpython.com/k-means-clustering-python/\n",
    "\n",
    "Iterations\n",
    "![](https://files.realpython.com/media/centroids_iterations.247379590275.gif)\n",
    "\n",
    "Elbow method\n",
    "![](https://files.realpython.com/media/elbow_method.f10515cf445d.png)\n",
    "\n",
    "Silhouette method\n",
    "![](https://files.realpython.com/media/silhouette_scores.9e4e63c679ef.png)"
   ]
  },
  {
   "cell_type": "markdown",
   "id": "dbd9af65-1b73-4f16-9739-94671acdbf60",
   "metadata": {},
   "source": [
    "#### Reference documentation\n",
    "\n",
    "- [Scikit-learn K-means clustering](https://scikit-learn.org/stable/auto_examples/cluster/plot_cluster_iris.html#sphx-glr-auto-examples-cluster-plot-cluster-iris-py)\n",
    "\n",
    "![](https://scikit-learn.org/stable/_images/sphx_glr_plot_cluster_iris_004.png)\n",
    "\n",
    "#### Another great example that is recommended to be reviewed prior to working through the example\n",
    "- [Kaggle Iris data clustering example](https://www.kaggle.com/code/khotijahs1/k-means-clustering-of-iris-dataset/notebook)\n"
   ]
  },
  {
   "cell_type": "markdown",
   "id": "a7b6f639-2be6-45fc-b0b1-7f96e41c20a9",
   "metadata": {},
   "source": [
    "## Clustering example from notes"
   ]
  },
  {
   "cell_type": "code",
   "execution_count": 12,
   "id": "214548e8-9d71-417d-8288-a0644e590ed2",
   "metadata": {},
   "outputs": [
    {
     "name": "stdout",
     "output_type": "stream",
     "text": [
      "(13397, 14)\n",
      "fb_id         int64\n",
      "medium       object\n",
      "published    object\n",
      "reactions     int64\n",
      "comments      int64\n",
      "share         int64\n",
      "like          int64\n",
      "love          int64\n",
      "excellent     int64\n",
      "funny         int64\n",
      "sad           int64\n",
      "angry         int64\n",
      "yes           int64\n",
      "no            int64\n",
      "dtype: object\n"
     ]
    },
    {
     "data": {
      "text/html": [
       "<div>\n",
       "<style scoped>\n",
       "    .dataframe tbody tr th:only-of-type {\n",
       "        vertical-align: middle;\n",
       "    }\n",
       "\n",
       "    .dataframe tbody tr th {\n",
       "        vertical-align: top;\n",
       "    }\n",
       "\n",
       "    .dataframe thead th {\n",
       "        text-align: right;\n",
       "    }\n",
       "</style>\n",
       "<table border=\"1\" class=\"dataframe\">\n",
       "  <thead>\n",
       "    <tr style=\"text-align: right;\">\n",
       "      <th></th>\n",
       "      <th>fb_id</th>\n",
       "      <th>medium</th>\n",
       "      <th>published</th>\n",
       "      <th>reactions</th>\n",
       "      <th>comments</th>\n",
       "      <th>share</th>\n",
       "      <th>like</th>\n",
       "      <th>love</th>\n",
       "      <th>excellent</th>\n",
       "      <th>funny</th>\n",
       "      <th>sad</th>\n",
       "      <th>angry</th>\n",
       "      <th>yes</th>\n",
       "      <th>no</th>\n",
       "    </tr>\n",
       "  </thead>\n",
       "  <tbody>\n",
       "    <tr>\n",
       "      <th>0</th>\n",
       "      <td>12987653</td>\n",
       "      <td>video</td>\n",
       "      <td>4/22/2018 6:00</td>\n",
       "      <td>529</td>\n",
       "      <td>512</td>\n",
       "      <td>262</td>\n",
       "      <td>432</td>\n",
       "      <td>92</td>\n",
       "      <td>3</td>\n",
       "      <td>1</td>\n",
       "      <td>1</td>\n",
       "      <td>0</td>\n",
       "      <td>1</td>\n",
       "      <td>0</td>\n",
       "    </tr>\n",
       "    <tr>\n",
       "      <th>1</th>\n",
       "      <td>12987654</td>\n",
       "      <td>photo</td>\n",
       "      <td>4/21/2018 22:45</td>\n",
       "      <td>150</td>\n",
       "      <td>0</td>\n",
       "      <td>0</td>\n",
       "      <td>150</td>\n",
       "      <td>0</td>\n",
       "      <td>0</td>\n",
       "      <td>0</td>\n",
       "      <td>0</td>\n",
       "      <td>0</td>\n",
       "      <td>1</td>\n",
       "      <td>0</td>\n",
       "    </tr>\n",
       "    <tr>\n",
       "      <th>2</th>\n",
       "      <td>12987655</td>\n",
       "      <td>photo</td>\n",
       "      <td>3/21/2017 0:24</td>\n",
       "      <td>33</td>\n",
       "      <td>9</td>\n",
       "      <td>1</td>\n",
       "      <td>33</td>\n",
       "      <td>0</td>\n",
       "      <td>0</td>\n",
       "      <td>0</td>\n",
       "      <td>0</td>\n",
       "      <td>0</td>\n",
       "      <td>0</td>\n",
       "      <td>1</td>\n",
       "    </tr>\n",
       "    <tr>\n",
       "      <th>3</th>\n",
       "      <td>12987656</td>\n",
       "      <td>photo</td>\n",
       "      <td>3/21/2017 0:23</td>\n",
       "      <td>72</td>\n",
       "      <td>1</td>\n",
       "      <td>0</td>\n",
       "      <td>72</td>\n",
       "      <td>0</td>\n",
       "      <td>0</td>\n",
       "      <td>0</td>\n",
       "      <td>0</td>\n",
       "      <td>0</td>\n",
       "      <td>0</td>\n",
       "      <td>1</td>\n",
       "    </tr>\n",
       "    <tr>\n",
       "      <th>4</th>\n",
       "      <td>12987657</td>\n",
       "      <td>photo</td>\n",
       "      <td>3/21/2017 0:13</td>\n",
       "      <td>174</td>\n",
       "      <td>0</td>\n",
       "      <td>0</td>\n",
       "      <td>173</td>\n",
       "      <td>1</td>\n",
       "      <td>0</td>\n",
       "      <td>0</td>\n",
       "      <td>0</td>\n",
       "      <td>0</td>\n",
       "      <td>0</td>\n",
       "      <td>1</td>\n",
       "    </tr>\n",
       "  </tbody>\n",
       "</table>\n",
       "</div>"
      ],
      "text/plain": [
       "      fb_id medium        published  reactions  comments  share  like  love  \\\n",
       "0  12987653  video   4/22/2018 6:00        529       512    262   432    92   \n",
       "1  12987654  photo  4/21/2018 22:45        150         0      0   150     0   \n",
       "2  12987655  photo   3/21/2017 0:24         33         9      1    33     0   \n",
       "3  12987656  photo   3/21/2017 0:23         72         1      0    72     0   \n",
       "4  12987657  photo   3/21/2017 0:13        174         0      0   173     1   \n",
       "\n",
       "   excellent  funny  sad  angry  yes  no  \n",
       "0          3      1    1      0    1   0  \n",
       "1          0      0    0      0    1   0  \n",
       "2          0      0    0      0    0   1  \n",
       "3          0      0    0      0    0   1  \n",
       "4          0      0    0      0    0   1  "
      ]
     },
     "execution_count": 12,
     "metadata": {},
     "output_type": "execute_result"
    }
   ],
   "source": [
    "# [1] import libraries\n",
    "import pandas as pd\n",
    "import numpy as np\n",
    "\n",
    "# [2] read the csv file\n",
    "df_fb = pd.read_csv(\"w2/Data Sets/FB.csv\")\n",
    "\n",
    "# [3] view the DataFrame\n",
    "print(df_fb.shape)\n",
    "print(df_fb.dtypes)\n",
    "df_fb.head()"
   ]
  },
  {
   "cell_type": "code",
   "execution_count": 13,
   "id": "71ac3876-6740-4b60-b9a0-11c88de35739",
   "metadata": {},
   "outputs": [
    {
     "data": {
      "text/html": [
       "<div>\n",
       "<style scoped>\n",
       "    .dataframe tbody tr th:only-of-type {\n",
       "        vertical-align: middle;\n",
       "    }\n",
       "\n",
       "    .dataframe tbody tr th {\n",
       "        vertical-align: top;\n",
       "    }\n",
       "\n",
       "    .dataframe thead th {\n",
       "        text-align: right;\n",
       "    }\n",
       "</style>\n",
       "<table border=\"1\" class=\"dataframe\">\n",
       "  <thead>\n",
       "    <tr style=\"text-align: right;\">\n",
       "      <th></th>\n",
       "      <th>fb_id</th>\n",
       "      <th>reactions</th>\n",
       "      <th>comments</th>\n",
       "      <th>share</th>\n",
       "      <th>like</th>\n",
       "      <th>love</th>\n",
       "      <th>excellent</th>\n",
       "      <th>funny</th>\n",
       "      <th>sad</th>\n",
       "      <th>angry</th>\n",
       "      <th>yes</th>\n",
       "      <th>no</th>\n",
       "    </tr>\n",
       "  </thead>\n",
       "  <tbody>\n",
       "    <tr>\n",
       "      <th>count</th>\n",
       "      <td>1.339700e+04</td>\n",
       "      <td>13397.000000</td>\n",
       "      <td>13397.000000</td>\n",
       "      <td>13397.000000</td>\n",
       "      <td>13397.000000</td>\n",
       "      <td>13397.000000</td>\n",
       "      <td>13397.000000</td>\n",
       "      <td>13397.000000</td>\n",
       "      <td>13397.000000</td>\n",
       "      <td>13397.000000</td>\n",
       "      <td>13397.000000</td>\n",
       "      <td>13397.000000</td>\n",
       "    </tr>\n",
       "    <tr>\n",
       "      <th>mean</th>\n",
       "      <td>1.299435e+07</td>\n",
       "      <td>375.496007</td>\n",
       "      <td>187.822348</td>\n",
       "      <td>27.894379</td>\n",
       "      <td>364.123460</td>\n",
       "      <td>9.523475</td>\n",
       "      <td>0.999030</td>\n",
       "      <td>0.499515</td>\n",
       "      <td>0.259984</td>\n",
       "      <td>0.085318</td>\n",
       "      <td>0.518997</td>\n",
       "      <td>0.481003</td>\n",
       "    </tr>\n",
       "    <tr>\n",
       "      <th>std</th>\n",
       "      <td>3.867525e+03</td>\n",
       "      <td>615.082883</td>\n",
       "      <td>922.957579</td>\n",
       "      <td>106.823723</td>\n",
       "      <td>611.454156</td>\n",
       "      <td>31.672009</td>\n",
       "      <td>6.464646</td>\n",
       "      <td>3.002503</td>\n",
       "      <td>1.796688</td>\n",
       "      <td>0.706974</td>\n",
       "      <td>0.499658</td>\n",
       "      <td>0.499658</td>\n",
       "    </tr>\n",
       "    <tr>\n",
       "      <th>min</th>\n",
       "      <td>1.298765e+07</td>\n",
       "      <td>0.000000</td>\n",
       "      <td>0.000000</td>\n",
       "      <td>0.000000</td>\n",
       "      <td>0.000000</td>\n",
       "      <td>0.000000</td>\n",
       "      <td>0.000000</td>\n",
       "      <td>0.000000</td>\n",
       "      <td>0.000000</td>\n",
       "      <td>0.000000</td>\n",
       "      <td>0.000000</td>\n",
       "      <td>0.000000</td>\n",
       "    </tr>\n",
       "    <tr>\n",
       "      <th>25%</th>\n",
       "      <td>1.299100e+07</td>\n",
       "      <td>32.000000</td>\n",
       "      <td>1.000000</td>\n",
       "      <td>0.000000</td>\n",
       "      <td>32.000000</td>\n",
       "      <td>0.000000</td>\n",
       "      <td>0.000000</td>\n",
       "      <td>0.000000</td>\n",
       "      <td>0.000000</td>\n",
       "      <td>0.000000</td>\n",
       "      <td>0.000000</td>\n",
       "      <td>0.000000</td>\n",
       "    </tr>\n",
       "    <tr>\n",
       "      <th>50%</th>\n",
       "      <td>1.299435e+07</td>\n",
       "      <td>136.000000</td>\n",
       "      <td>7.000000</td>\n",
       "      <td>0.000000</td>\n",
       "      <td>122.000000</td>\n",
       "      <td>0.000000</td>\n",
       "      <td>0.000000</td>\n",
       "      <td>0.000000</td>\n",
       "      <td>0.000000</td>\n",
       "      <td>0.000000</td>\n",
       "      <td>1.000000</td>\n",
       "      <td>0.000000</td>\n",
       "    </tr>\n",
       "    <tr>\n",
       "      <th>75%</th>\n",
       "      <td>1.299770e+07</td>\n",
       "      <td>351.000000</td>\n",
       "      <td>21.000000</td>\n",
       "      <td>3.000000</td>\n",
       "      <td>327.000000</td>\n",
       "      <td>3.000000</td>\n",
       "      <td>0.000000</td>\n",
       "      <td>0.000000</td>\n",
       "      <td>0.000000</td>\n",
       "      <td>0.000000</td>\n",
       "      <td>1.000000</td>\n",
       "      <td>1.000000</td>\n",
       "    </tr>\n",
       "    <tr>\n",
       "      <th>max</th>\n",
       "      <td>1.300105e+07</td>\n",
       "      <td>4710.000000</td>\n",
       "      <td>20990.000000</td>\n",
       "      <td>3424.000000</td>\n",
       "      <td>4710.000000</td>\n",
       "      <td>657.000000</td>\n",
       "      <td>278.000000</td>\n",
       "      <td>157.000000</td>\n",
       "      <td>51.000000</td>\n",
       "      <td>31.000000</td>\n",
       "      <td>1.000000</td>\n",
       "      <td>1.000000</td>\n",
       "    </tr>\n",
       "  </tbody>\n",
       "</table>\n",
       "</div>"
      ],
      "text/plain": [
       "              fb_id     reactions      comments         share          like  \\\n",
       "count  1.339700e+04  13397.000000  13397.000000  13397.000000  13397.000000   \n",
       "mean   1.299435e+07    375.496007    187.822348     27.894379    364.123460   \n",
       "std    3.867525e+03    615.082883    922.957579    106.823723    611.454156   \n",
       "min    1.298765e+07      0.000000      0.000000      0.000000      0.000000   \n",
       "25%    1.299100e+07     32.000000      1.000000      0.000000     32.000000   \n",
       "50%    1.299435e+07    136.000000      7.000000      0.000000    122.000000   \n",
       "75%    1.299770e+07    351.000000     21.000000      3.000000    327.000000   \n",
       "max    1.300105e+07   4710.000000  20990.000000   3424.000000   4710.000000   \n",
       "\n",
       "               love     excellent         funny           sad         angry  \\\n",
       "count  13397.000000  13397.000000  13397.000000  13397.000000  13397.000000   \n",
       "mean       9.523475      0.999030      0.499515      0.259984      0.085318   \n",
       "std       31.672009      6.464646      3.002503      1.796688      0.706974   \n",
       "min        0.000000      0.000000      0.000000      0.000000      0.000000   \n",
       "25%        0.000000      0.000000      0.000000      0.000000      0.000000   \n",
       "50%        0.000000      0.000000      0.000000      0.000000      0.000000   \n",
       "75%        3.000000      0.000000      0.000000      0.000000      0.000000   \n",
       "max      657.000000    278.000000    157.000000     51.000000     31.000000   \n",
       "\n",
       "                yes            no  \n",
       "count  13397.000000  13397.000000  \n",
       "mean       0.518997      0.481003  \n",
       "std        0.499658      0.499658  \n",
       "min        0.000000      0.000000  \n",
       "25%        0.000000      0.000000  \n",
       "50%        1.000000      0.000000  \n",
       "75%        1.000000      1.000000  \n",
       "max        1.000000      1.000000  "
      ]
     },
     "execution_count": 13,
     "metadata": {},
     "output_type": "execute_result"
    }
   ],
   "source": [
    "# Display a summary of the numeric variables.\n",
    "df_fb.describe() "
   ]
  },
  {
   "cell_type": "code",
   "execution_count": 14,
   "id": "6bb73656-0209-4403-9619-ab764b26fee3",
   "metadata": {},
   "outputs": [
    {
     "data": {
      "text/plain": [
       "Index(['medium', 'reactions', 'comments', 'share', 'like', 'love', 'excellent',\n",
       "       'funny', 'sad', 'angry', 'yes', 'no'],\n",
       "      dtype='object')"
      ]
     },
     "execution_count": 14,
     "metadata": {},
     "output_type": "execute_result"
    }
   ],
   "source": [
    "# [1] Employ the drop() function and \n",
    "# [2] indicate the element to drop:\n",
    "df_fb.drop(['fb_id', 'published'], axis=1, inplace=True)\n",
    "\n",
    "# [3] Display the column names.\n",
    "df_fb.columns "
   ]
  },
  {
   "cell_type": "code",
   "execution_count": 15,
   "id": "387d1f26-3aa9-42df-acd7-c3ba219bb4a3",
   "metadata": {},
   "outputs": [
    {
     "data": {
      "image/png": "[encoded data removed]",
      "text/plain": [
       "<Figure size 864x864 with 1 Axes>"
      ]
     },
     "metadata": {
      "needs_background": "light"
     },
     "output_type": "display_data"
    }
   ],
   "source": [
    "# [1] Import the necessary packages:\n",
    "from matplotlib import pyplot as plt\n",
    "import seaborn as sns\n",
    "\n",
    "# [2] Generate the overall frame and [2a, b] the bars for the plot:\n",
    "plt.figure(figsize=(12, 12))\n",
    "ax = sns.countplot(x=\"medium\", data=df_fb)\n",
    "sns.set(font_scale = 1.5)\n",
    "sns.set_style(\"white\")\n",
    "\n",
    "# [3] Specify the plot title, x-axis label, and the y-axis label:\n",
    "plt.title('Distribution of medium')\n",
    "plt.xlabel('Type of medium')\n",
    "plt.ylabel('Frequency')\n",
    "\n",
    "# [4] Annotate the bars with values:\n",
    "for p in ax.patches:\n",
    "    ax.annotate('{:.1f}'.format(p.get_height()), (p.get_x()+0.1, p.get_height()+50), va='center') \n",
    "\n",
    "# key: 3=video, 2=status, 1=photo, 0=link\n"
   ]
  },
  {
   "cell_type": "code",
   "execution_count": 16,
   "id": "13e42e5b-8cde-4b0a-888f-2be9a6ce59e8",
   "metadata": {},
   "outputs": [],
   "source": [
    "# Define the independent variable.\n",
    "X = df_fb \n",
    "# Define the dependent variable.\n",
    "y = df_fb['medium']"
   ]
  },
  {
   "cell_type": "code",
   "execution_count": 17,
   "id": "212acfdf-ddd2-4e2e-b215-ca631047ce55",
   "metadata": {},
   "outputs": [],
   "source": [
    "# [1] Import the LabelEncoder class:\n",
    "from sklearn.preprocessing import LabelEncoder\n",
    "\n",
    "# [2] Create an object from the class.\n",
    "le = LabelEncoder() \n",
    "\n",
    "# [3] Modify the DataFrame column with integer values:\n",
    "X['medium'] = le.fit_transform(X['medium'])\n",
    "\n",
    "y = le.transform(y)"
   ]
  },
  {
   "cell_type": "code",
   "execution_count": 18,
   "id": "8895b0c2-20fd-4d2a-ab0b-1e49854f6a70",
   "metadata": {},
   "outputs": [
    {
     "name": "stdout",
     "output_type": "stream",
     "text": [
      "<class 'pandas.core.frame.DataFrame'>\n",
      "RangeIndex: 13397 entries, 0 to 13396\n",
      "Data columns (total 12 columns):\n",
      " #   Column     Non-Null Count  Dtype\n",
      "---  ------     --------------  -----\n",
      " 0   medium     13397 non-null  int64\n",
      " 1   reactions  13397 non-null  int64\n",
      " 2   comments   13397 non-null  int64\n",
      " 3   share      13397 non-null  int64\n",
      " 4   like       13397 non-null  int64\n",
      " 5   love       13397 non-null  int64\n",
      " 6   excellent  13397 non-null  int64\n",
      " 7   funny      13397 non-null  int64\n",
      " 8   sad        13397 non-null  int64\n",
      " 9   angry      13397 non-null  int64\n",
      " 10  yes        13397 non-null  int64\n",
      " 11  no         13397 non-null  int64\n",
      "dtypes: int64(12)\n",
      "memory usage: 1.2 MB\n"
     ]
    }
   ],
   "source": [
    "# Check that label encoding happened correctly using the ‘info()’ method:\n",
    "X.info()"
   ]
  },
  {
   "cell_type": "code",
   "execution_count": 19,
   "id": "8dc761bf-9bca-48e8-82b2-cc8b214aaab2",
   "metadata": {},
   "outputs": [
    {
     "data": {
      "text/html": [
       "<div>\n",
       "<style scoped>\n",
       "    .dataframe tbody tr th:only-of-type {\n",
       "        vertical-align: middle;\n",
       "    }\n",
       "\n",
       "    .dataframe tbody tr th {\n",
       "        vertical-align: top;\n",
       "    }\n",
       "\n",
       "    .dataframe thead tr th {\n",
       "        text-align: left;\n",
       "    }\n",
       "</style>\n",
       "<table border=\"1\" class=\"dataframe\">\n",
       "  <thead>\n",
       "    <tr>\n",
       "      <th></th>\n",
       "      <th>medium</th>\n",
       "      <th>reactions</th>\n",
       "      <th>comments</th>\n",
       "      <th>share</th>\n",
       "      <th>like</th>\n",
       "      <th>love</th>\n",
       "      <th>excellent</th>\n",
       "      <th>funny</th>\n",
       "      <th>sad</th>\n",
       "      <th>angry</th>\n",
       "      <th>yes</th>\n",
       "      <th>no</th>\n",
       "    </tr>\n",
       "  </thead>\n",
       "  <tbody>\n",
       "    <tr>\n",
       "      <th>0</th>\n",
       "      <td>1.000000</td>\n",
       "      <td>0.112314</td>\n",
       "      <td>0.024393</td>\n",
       "      <td>0.076519</td>\n",
       "      <td>0.091720</td>\n",
       "      <td>0.140030</td>\n",
       "      <td>0.010791</td>\n",
       "      <td>0.006369</td>\n",
       "      <td>0.019608</td>\n",
       "      <td>0.0</td>\n",
       "      <td>1.0</td>\n",
       "      <td>0.0</td>\n",
       "    </tr>\n",
       "    <tr>\n",
       "      <th>1</th>\n",
       "      <td>0.333333</td>\n",
       "      <td>0.031847</td>\n",
       "      <td>0.000000</td>\n",
       "      <td>0.000000</td>\n",
       "      <td>0.031847</td>\n",
       "      <td>0.000000</td>\n",
       "      <td>0.000000</td>\n",
       "      <td>0.000000</td>\n",
       "      <td>0.000000</td>\n",
       "      <td>0.0</td>\n",
       "      <td>1.0</td>\n",
       "      <td>0.0</td>\n",
       "    </tr>\n",
       "    <tr>\n",
       "      <th>2</th>\n",
       "      <td>0.333333</td>\n",
       "      <td>0.007006</td>\n",
       "      <td>0.000429</td>\n",
       "      <td>0.000292</td>\n",
       "      <td>0.007006</td>\n",
       "      <td>0.000000</td>\n",
       "      <td>0.000000</td>\n",
       "      <td>0.000000</td>\n",
       "      <td>0.000000</td>\n",
       "      <td>0.0</td>\n",
       "      <td>0.0</td>\n",
       "      <td>1.0</td>\n",
       "    </tr>\n",
       "    <tr>\n",
       "      <th>3</th>\n",
       "      <td>0.333333</td>\n",
       "      <td>0.015287</td>\n",
       "      <td>0.000048</td>\n",
       "      <td>0.000000</td>\n",
       "      <td>0.015287</td>\n",
       "      <td>0.000000</td>\n",
       "      <td>0.000000</td>\n",
       "      <td>0.000000</td>\n",
       "      <td>0.000000</td>\n",
       "      <td>0.0</td>\n",
       "      <td>0.0</td>\n",
       "      <td>1.0</td>\n",
       "    </tr>\n",
       "    <tr>\n",
       "      <th>4</th>\n",
       "      <td>0.333333</td>\n",
       "      <td>0.036943</td>\n",
       "      <td>0.000000</td>\n",
       "      <td>0.000000</td>\n",
       "      <td>0.036730</td>\n",
       "      <td>0.001522</td>\n",
       "      <td>0.000000</td>\n",
       "      <td>0.000000</td>\n",
       "      <td>0.000000</td>\n",
       "      <td>0.0</td>\n",
       "      <td>0.0</td>\n",
       "      <td>1.0</td>\n",
       "    </tr>\n",
       "  </tbody>\n",
       "</table>\n",
       "</div>"
      ],
      "text/plain": [
       "     medium reactions  comments     share      like      love excellent  \\\n",
       "0  1.000000  0.112314  0.024393  0.076519  0.091720  0.140030  0.010791   \n",
       "1  0.333333  0.031847  0.000000  0.000000  0.031847  0.000000  0.000000   \n",
       "2  0.333333  0.007006  0.000429  0.000292  0.007006  0.000000  0.000000   \n",
       "3  0.333333  0.015287  0.000048  0.000000  0.015287  0.000000  0.000000   \n",
       "4  0.333333  0.036943  0.000000  0.000000  0.036730  0.001522  0.000000   \n",
       "\n",
       "      funny       sad angry  yes   no  \n",
       "0  0.006369  0.019608   0.0  1.0  0.0  \n",
       "1  0.000000  0.000000   0.0  1.0  0.0  \n",
       "2  0.000000  0.000000   0.0  0.0  1.0  \n",
       "3  0.000000  0.000000   0.0  0.0  1.0  \n",
       "4  0.000000  0.000000   0.0  0.0  1.0  "
      ]
     },
     "execution_count": 19,
     "metadata": {},
     "output_type": "execute_result"
    }
   ],
   "source": [
    "# Normalisation recommended but not always performed\n",
    "\n",
    "# [1] Create an list with the column labels from X:\n",
    "x_cols = X.columns\n",
    "\n",
    "# [2] Import the MinMaxScaler class.\n",
    "from sklearn.preprocessing import MinMaxScaler \n",
    "\n",
    "# [3] Create the object from ‘MinMaxScaler’.\n",
    "ms = MinMaxScaler() \n",
    "# [4] Modify X to scale values between 0 and 1.\n",
    "X = ms.fit_transform(X) \n",
    "# [5] Set X as equal to a new DataFrame.\n",
    "X = pd.DataFrame(X, columns=[x_cols]) \n",
    "\n",
    "# [6] Check the contents of the modified DataFrame.\n",
    "X.head() "
   ]
  },
  {
   "cell_type": "code",
   "execution_count": 20,
   "id": "2bcb660a-e646-4c75-a0b6-2353e31e7c01",
   "metadata": {},
   "outputs": [
    {
     "data": {
      "text/html": [
       "<style>#sk-container-id-1 {color: black;background-color: white;}#sk-container-id-1 pre{padding: 0;}#sk-container-id-1 div.sk-toggleable {background-color: white;}#sk-container-id-1 label.sk-toggleable__label {cursor: pointer;display: block;width: 100%;margin-bottom: 0;padding: 0.3em;box-sizing: border-box;text-align: center;}#sk-container-id-1 label.sk-toggleable__label-arrow:before {content: \"▸\";float: left;margin-right: 0.25em;color: #696969;}#sk-container-id-1 label.sk-toggleable__label-arrow:hover:before {color: black;}#sk-container-id-1 div.sk-estimator:hover label.sk-toggleable__label-arrow:before {color: black;}#sk-container-id-1 div.sk-toggleable__content {max-height: 0;max-width: 0;overflow: hidden;text-align: left;background-color: #f0f8ff;}#sk-container-id-1 div.sk-toggleable__content pre {margin: 0.2em;color: black;border-radius: 0.25em;background-color: #f0f8ff;}#sk-container-id-1 input.sk-toggleable__control:checked~div.sk-toggleable__content {max-height: 200px;max-width: 100%;overflow: auto;}#sk-container-id-1 input.sk-toggleable__control:checked~label.sk-toggleable__label-arrow:before {content: \"▾\";}#sk-container-id-1 div.sk-estimator input.sk-toggleable__control:checked~label.sk-toggleable__label {background-color: #d4ebff;}#sk-container-id-1 div.sk-label input.sk-toggleable__control:checked~label.sk-toggleable__label {background-color: #d4ebff;}#sk-container-id-1 input.sk-hidden--visually {border: 0;clip: rect(1px 1px 1px 1px);clip: rect(1px, 1px, 1px, 1px);height: 1px;margin: -1px;overflow: hidden;padding: 0;position: absolute;width: 1px;}#sk-container-id-1 div.sk-estimator {font-family: monospace;background-color: #f0f8ff;border: 1px dotted black;border-radius: 0.25em;box-sizing: border-box;margin-bottom: 0.5em;}#sk-container-id-1 div.sk-estimator:hover {background-color: #d4ebff;}#sk-container-id-1 div.sk-parallel-item::after {content: \"\";width: 100%;border-bottom: 1px solid gray;flex-grow: 1;}#sk-container-id-1 div.sk-label:hover label.sk-toggleable__label {background-color: #d4ebff;}#sk-container-id-1 div.sk-serial::before {content: \"\";position: absolute;border-left: 1px solid gray;box-sizing: border-box;top: 0;bottom: 0;left: 50%;z-index: 0;}#sk-container-id-1 div.sk-serial {display: flex;flex-direction: column;align-items: center;background-color: white;padding-right: 0.2em;padding-left: 0.2em;position: relative;}#sk-container-id-1 div.sk-item {position: relative;z-index: 1;}#sk-container-id-1 div.sk-parallel {display: flex;align-items: stretch;justify-content: center;background-color: white;position: relative;}#sk-container-id-1 div.sk-item::before, #sk-container-id-1 div.sk-parallel-item::before {content: \"\";position: absolute;border-left: 1px solid gray;box-sizing: border-box;top: 0;bottom: 0;left: 50%;z-index: -1;}#sk-container-id-1 div.sk-parallel-item {display: flex;flex-direction: column;z-index: 1;position: relative;background-color: white;}#sk-container-id-1 div.sk-parallel-item:first-child::after {align-self: flex-end;width: 50%;}#sk-container-id-1 div.sk-parallel-item:last-child::after {align-self: flex-start;width: 50%;}#sk-container-id-1 div.sk-parallel-item:only-child::after {width: 0;}#sk-container-id-1 div.sk-dashed-wrapped {border: 1px dashed gray;margin: 0 0.4em 0.5em 0.4em;box-sizing: border-box;padding-bottom: 0.4em;background-color: white;}#sk-container-id-1 div.sk-label label {font-family: monospace;font-weight: bold;display: inline-block;line-height: 1.2em;}#sk-container-id-1 div.sk-label-container {text-align: center;}#sk-container-id-1 div.sk-container {/* jupyter's `normalize.less` sets `[hidden] { display: none; }` but bootstrap.min.css set `[hidden] { display: none !important; }` so we also need the `!important` here to be able to override the default hidden behavior on the sphinx rendered scikit-learn.org. See: https://github.com/scikit-learn/scikit-learn/issues/21755 */display: inline-block !important;position: relative;}#sk-container-id-1 div.sk-text-repr-fallback {display: none;}</style><div id=\"sk-container-id-1\" class=\"sk-top-container\"><div class=\"sk-text-repr-fallback\"><pre>KMeans(n_clusters=2, random_state=0)</pre><b>In a Jupyter environment, please rerun this cell to show the HTML representation or trust the notebook. <br />On GitHub, the HTML representation is unable to render, please try loading this page with nbviewer.org.</b></div><div class=\"sk-container\" hidden><div class=\"sk-item\"><div class=\"sk-estimator sk-toggleable\"><input class=\"sk-toggleable__control sk-hidden--visually\" id=\"sk-estimator-id-1\" type=\"checkbox\" checked><label for=\"sk-estimator-id-1\" class=\"sk-toggleable__label sk-toggleable__label-arrow\">KMeans</label><div class=\"sk-toggleable__content\"><pre>KMeans(n_clusters=2, random_state=0)</pre></div></div></div></div></div>"
      ],
      "text/plain": [
       "KMeans(n_clusters=2, random_state=0)"
      ]
     },
     "execution_count": 20,
     "metadata": {},
     "output_type": "execute_result"
    }
   ],
   "source": [
    "# [1] Import the KMeans class.\n",
    "from sklearn.cluster import KMeans \n",
    "\n",
    "# [2] Create the object and [2a] specify the parameters:\n",
    "kmeans = KMeans(n_clusters=2, random_state=0)\n",
    "\n",
    "# [3] Fit the k means to the data set. \n",
    "kmeans.fit(X) "
   ]
  },
  {
   "cell_type": "code",
   "execution_count": 23,
   "id": "00247c20-879a-45e2-a99e-6fc14fc0d74d",
   "metadata": {},
   "outputs": [],
   "source": [
    "# Note that I received an error here, traced it to an issue with a specific numpy version\n",
    "#np.__version__\n",
    "#pip install --force-reinstall numpy==1.21.4"
   ]
  },
  {
   "cell_type": "code",
   "execution_count": 24,
   "id": "78c43e08-2bff-454d-8cbf-17623802d459",
   "metadata": {},
   "outputs": [
    {
     "data": {
      "text/plain": [
       "array([[ 5.63676805e-01,  7.97700522e-02,  9.95437217e-03,\n",
       "         8.62467332e-03,  7.72335167e-02,  1.53255728e-02,\n",
       "         3.47878122e-03,  3.54252413e-03,  5.34012488e-03,\n",
       "         2.56302437e-03,  4.55191440e-15,  1.00000000e+00],\n",
       "       [ 5.72846253e-01,  7.96796690e-02,  8.01565154e-03,\n",
       "         7.70376130e-03,  7.73781682e-02,  1.37259937e-02,\n",
       "         3.70007460e-03,  2.84714200e-03,  4.87305522e-03,\n",
       "         2.92749011e-03,  1.00000000e+00, -4.66293670e-15]])"
      ]
     },
     "execution_count": 24,
     "metadata": {},
     "output_type": "execute_result"
    }
   ],
   "source": [
    "# Indicate ‘kmeans()’ applies to ‘cluster_centers’. \n",
    "kmeans.cluster_centers_"
   ]
  },
  {
   "cell_type": "code",
   "execution_count": 25,
   "id": "885facfd-1a8f-4cad-a5e6-2750b426bb2c",
   "metadata": {},
   "outputs": [
    {
     "data": {
      "text/plain": [
       "1881.3383018237319"
      ]
     },
     "execution_count": 25,
     "metadata": {},
     "output_type": "execute_result"
    }
   ],
   "source": [
    "# Check the inertia for the data set.\n",
    "kmeans.inertia_ "
   ]
  },
  {
   "cell_type": "code",
   "execution_count": 26,
   "id": "fc42608e-243f-4d1a-b1d0-eaa32f1fd110",
   "metadata": {},
   "outputs": [
    {
     "name": "stdout",
     "output_type": "stream",
     "text": [
      "Result: 4157 out of 13397 samples were correctly labeled.\n"
     ]
    }
   ],
   "source": [
    "# [1] Extract the labels from the k means.\n",
    "labels = kmeans.labels_ \n",
    "\n",
    "# [2] Add up correctly labelled instances. \n",
    "correct_labels = sum(y == labels) \n",
    "\n",
    " # [3] Display the result.\n",
    "print(\"Result: %d out of %d samples were correctly labeled.\" % (correct_labels, y.size))"
   ]
  },
  {
   "cell_type": "code",
   "execution_count": 27,
   "id": "007c84e1-1f2c-49b1-9b39-b8dab5f471f2",
   "metadata": {},
   "outputs": [
    {
     "data": {
      "image/png": "[encoded data removed]",
      "text/plain": [
       "<Figure size 432x288 with 1 Axes>"
      ]
     },
     "metadata": {},
     "output_type": "display_data"
    }
   ],
   "source": [
    "#elbow chart for us to decide on the number of optimal clusters\n",
    "cs = []\n",
    "for i in range(1, 11):\n",
    "    kmeans = KMeans(n_clusters = i, init = 'k-means++', \n",
    "                    max_iter = 300, n_init = 10, random_state = 0)\n",
    "    kmeans.fit(X)\n",
    "    cs.append(kmeans.inertia_)\n",
    "plt.plot(range(1, 11), cs)\n",
    "plt.title('The Elbow Method')\n",
    "plt.xlabel('Number of clusters')\n",
    "plt.ylabel('CS')\n",
    "plt.show()\n",
    "#From the below chart we can take the optimal number as 4 "
   ]
  },
  {
   "cell_type": "code",
   "execution_count": 28,
   "id": "9a15f164-d8c1-4308-87d6-392f499dabfd",
   "metadata": {},
   "outputs": [
    {
     "name": "stdout",
     "output_type": "stream",
     "text": [
      "Result: 4665 out of 13397 samples were correctly labeled.\n",
      "Accuracy score: 0.35\n"
     ]
    }
   ],
   "source": [
    "# [1] Create a k-means object with three clusters:\n",
    "kmeans = KMeans(n_clusters=3, random_state=0)\n",
    "# [2] Apply ‘fit()’, using the DataFrame, to the k-means object.\n",
    "kmeans.fit(X) \n",
    "\n",
    "# [3] Check how many of the samples were correctly labelled:\n",
    "labels = kmeans.labels_\n",
    "correct_labels = sum(y == labels)\n",
    "\n",
    "# [4] Display the accuracy score:\n",
    "print(\"Result: %d out of %d samples were correctly labeled.\" % (correct_labels, y.size))\n",
    "\n",
    "print('Accuracy score: {0:0.2f}'. format(correct_labels/float(y.size)))"
   ]
  },
  {
   "cell_type": "code",
   "execution_count": 29,
   "id": "d23ab1b8-f55f-4ab2-b54d-909d85aae4d1",
   "metadata": {},
   "outputs": [
    {
     "name": "stdout",
     "output_type": "stream",
     "text": [
      "Result: 6545 out of 13397 samples were correctly labeled.\n",
      "Accuracy score: 0.49\n"
     ]
    }
   ],
   "source": [
    "# [1] Create a k-means object with three clusters:\n",
    "kmeans = KMeans(n_clusters=4, random_state=0)\n",
    "# [2] Apply ‘fit()’, using the DataFrame, to the k-means object.\n",
    "kmeans.fit(X) \n",
    "\n",
    "# [3] Check how many of the samples were correctly labelled:\n",
    "labels = kmeans.labels_\n",
    "correct_labels = sum(y == labels)\n",
    "\n",
    "# [4] Display the accuracy score:\n",
    "print(\"Result: %d out of %d samples were correctly labeled.\" % (correct_labels, y.size))\n",
    "\n",
    "print('Accuracy score: {0:0.2f}'. format(correct_labels/float(y.size))) "
   ]
  },
  {
   "cell_type": "code",
   "execution_count": 30,
   "id": "25caab63-a89b-48f8-8f96-82462450de24",
   "metadata": {},
   "outputs": [
    {
     "data": {
      "image/png": "[encoded data removed]",
      "text/plain": [
       "<Figure size 1872x432 with 1 Axes>"
      ]
     },
     "metadata": {},
     "output_type": "display_data"
    }
   ],
   "source": [
    "# [1] Create the figure area.\n",
    "fig = plt.figure(figsize=(26,6)) \n",
    "# [2] Create a 3D projection area.\n",
    "ax = fig.add_subplot(131, projection='3d') \n",
    "\n",
    "# [3] Create a 3D scatter plot and specify the data source for each axis:\n",
    "ax.scatter(df_fb['reactions'], df_fb['share'], \n",
    " df_fb['like'], c=labels, s=15)\n",
    "\n",
    "# [4] Set the label for each dimension:\n",
    "ax.set_xlabel('Reactions')\n",
    "ax.set_ylabel('Share')\n",
    "ax.set_zlabel('Like')\n",
    "\n",
    "# [5] Show the plot.\n",
    "plt.show() "
   ]
  },
  {
   "cell_type": "code",
   "execution_count": 31,
   "id": "7b0efdc1-1ee2-40be-81c6-5e45d5e459c5",
   "metadata": {},
   "outputs": [
    {
     "data": {
      "image/png": "[encoded data removed]",
      "text/plain": [
       "<Figure size 1872x432 with 1 Axes>"
      ]
     },
     "metadata": {},
     "output_type": "display_data"
    }
   ],
   "source": [
    "# [1] Create the figure area.\n",
    "fig = plt.figure(figsize=(26,6)) \n",
    "\n",
    "# [2] Create a 3D projection area.\n",
    "ax = fig.add_subplot(131, projection='3d') \n",
    "\n",
    "# [3] Create a 3D scatter plot and specify the data source for each axis:\n",
    "ax.scatter(df_fb['comments'], df_fb['share'], \n",
    " df_fb['love'], c=labels, s=15)\n",
    "\n",
    "# [4] Set the label for each dimension:\n",
    "ax.set_xlabel('Comments')\n",
    "ax.set_ylabel('Share')\n",
    "ax.set_zlabel('Love')\n",
    "\n",
    "# [5] Show the plot.\n",
    "plt.show() "
   ]
  },
  {
   "cell_type": "markdown",
   "id": "0fd0fc9e-ac53-4858-856d-2f932d3e6527",
   "metadata": {},
   "source": [
    "# Additional information\n",
    "https://machinelearningknowledge.ai/tutorial-for-k-means-clustering-in-python-sklearn/\n",
    "- Note that we often use a combination of the elbow and silhouette methods to inform the number of clusters to be used\n",
    "- Also informed by business knowledge"
   ]
  },
  {
   "cell_type": "markdown",
   "id": "fce297c1-122d-4c24-bd16-a44a92b61300",
   "metadata": {},
   "source": [
    "# Other links\n",
    "- [Formatted printing](https://www.geeksforgeeks.org/python-output-formatting/)"
   ]
  },
  {
   "cell_type": "code",
   "execution_count": null,
   "id": "a4b27b2d-df93-4928-9379-76eee9afb3e3",
   "metadata": {},
   "outputs": [],
   "source": []
  }
 ],
 "metadata": {
  "kernelspec": {
   "display_name": "gs",
   "language": "python",
   "name": "gs"
  },
  "language_info": {
   "codemirror_mode": {
    "name": "ipython",
    "version": 3
   },
   "file_extension": ".py",
   "mimetype": "text/x-python",
   "name": "python",
   "nbconvert_exporter": "python",
   "pygments_lexer": "ipython3",
   "version": "3.8.6"
  }
 },
 "nbformat": 4,
 "nbformat_minor": 5
}
